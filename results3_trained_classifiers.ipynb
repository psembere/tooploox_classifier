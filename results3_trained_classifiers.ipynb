{
 "cells": [
  {
   "cell_type": "markdown",
   "metadata": {},
   "source": [
    "# Validation"
   ]
  },
  {
   "cell_type": "markdown",
   "metadata": {},
   "source": [
    "# Download test data inception features"
   ]
  },
  {
   "cell_type": "code",
   "execution_count": 1,
   "metadata": {
    "collapsed": true
   },
   "outputs": [],
   "source": [
    "%%bash\n",
    "wget -q -O y_test.npy \"https://drive.google.com/uc?export=download&id=0B7ArjHYhsu92MnREeVlsOFExYXM\" "
   ]
  },
  {
   "cell_type": "code",
   "execution_count": 2,
   "metadata": {},
   "outputs": [
    {
     "name": "stderr",
     "output_type": "stream",
     "text": [
      "2017-10-16 20:01:22 URL:https://drive.google.com/uc?export=download&id=0B7ArjHYhsu92WFBmZ1MyaWI4ZlE [3292] -> \"X_test.npy\" [1]\n",
      "2017-10-16 20:01:22 URL:https://docs.google.com/uc?export=download&confirm=lOk3&id=0B7ArjHYhsu92WFBmZ1MyaWI4ZlE [3307] -> \"X_test.npy\" [1]\n",
      "2017-10-16 20:01:43 URL:https://doc-0o-4s-docs.googleusercontent.com/docs/securesc/ha0ro937gcuc7l7deffksulhg5h7mbp1/04ki2dr0jnb0dg5o8bkp27ni24b07e09/1508184000000/17907268831732605496/*/0B7ArjHYhsu92WFBmZ1MyaWI4ZlE?e=download [81920080] -> \"X_test.npy\" [1]\n"
     ]
    }
   ],
   "source": [
    "%%bash\n",
    "# the Perl gdown script is needed for downloading larger file from gdrive\n",
    "gdrive/gdown.pl \"https://drive.google.com/uc?export=download&id=0B7ArjHYhsu92WFBmZ1MyaWI4ZlE\" \\\n",
    "X_test.npy"
   ]
  },
  {
   "cell_type": "markdown",
   "metadata": {},
   "source": [
    "# Download SVM models"
   ]
  },
  {
   "cell_type": "code",
   "execution_count": 3,
   "metadata": {
    "collapsed": true
   },
   "outputs": [],
   "source": [
    "%%bash\n",
    "wget -q -O linear_svm-day16-hour-08-36-02_89_percent \\\n",
    "\"https://drive.google.com/uc?export=download&id=0B7ArjHYhsu92aXBqWGxpQk1OaTg\""
   ]
  },
  {
   "cell_type": "code",
   "execution_count": 4,
   "metadata": {
    "collapsed": true
   },
   "outputs": [],
   "source": [
    "# %%bash\n",
    "# #Large 500 MB model, kernel svm, uncomment if you want to download\n",
    "# gdrive/gdown.pl \"https://drive.google.com/uc?export=download&id=0B7ArjHYhsu92cEdrSG9XZ2NWejQ\" \\\n",
    "# kernel_svm-day16-hour-16-21-05_90_percent"
   ]
  },
  {
   "cell_type": "markdown",
   "metadata": {},
   "source": [
    "# Move files"
   ]
  },
  {
   "cell_type": "code",
   "execution_count": 5,
   "metadata": {
    "collapsed": true
   },
   "outputs": [],
   "source": [
    "import shutil\n",
    "import os\n",
    "\n",
    "linear_model = \"linear_svm-day16-hour-08-36-02_89_percent\"\n",
    "# kernel_model = \"kernel_svm-day16-hour-16-21-05_90_percent\"\n",
    "\n",
    "shutil.move(\"y_test.npy\", os.path.join('gdrive', \"y_test.npy\"))\n",
    "shutil.move(\"X_test.npy\", os.path.join('gdrive',\"X_test.npy\"))\n",
    "shutil.move(linear_model, os.path.join('gdrive',linear_model))\n",
    "\n",
    "# shutil.move(kernel_model, os.path.join('gdrive',kernel_model))"
   ]
  },
  {
   "cell_type": "markdown",
   "metadata": {},
   "source": [
    "# Get features"
   ]
  },
  {
   "cell_type": "code",
   "execution_count": 6,
   "metadata": {
    "collapsed": true
   },
   "outputs": [],
   "source": [
    "from classifiers.svm_wrappers import LinearClassifierGenerator, KernelClassifierGenerator, FeaturesDataSet\n",
    "import numpy as np\n",
    "linear_classifier_generator = LinearClassifierGenerator()\n",
    "kernel_classifier_generator = KernelClassifierGenerator()\n",
    "features = FeaturesDataSet()\n",
    "features.test_features = np.load(os.path.join(\"gdrive\", \"X_test.npy\")).tolist()\n",
    "features.test_labels = np.load(os.path.join(\"gdrive\", \"y_test.npy\")).tolist()"
   ]
  },
  {
   "cell_type": "markdown",
   "metadata": {},
   "source": [
    "# Validate classifier"
   ]
  },
  {
   "cell_type": "code",
   "execution_count": 7,
   "metadata": {},
   "outputs": [
    {
     "name": "stdout",
     "output_type": "stream",
     "text": [
      "Accuracy = 89.74% (8974/10000) (classification)\n",
      "Loaded model details:\n",
      "('acc ', 89.74, 'mean_square ', 1.8521, ' correlation', 0.7883674670273654)\n"
     ]
    }
   ],
   "source": [
    "linear_classifier_generator.evaluate(features, path=os.path.join(\"gdrive\", linear_model))"
   ]
  },
  {
   "cell_type": "code",
   "execution_count": null,
   "metadata": {
    "collapsed": true
   },
   "outputs": [],
   "source": [
    "# kernel_classifier_generator.evaluate(features, path=os.path.join(\"gdrive\", kernel_model))"
   ]
  }
 ],
 "metadata": {
  "kernelspec": {
   "display_name": "Python 2",
   "language": "python",
   "name": "python2"
  },
  "language_info": {
   "codemirror_mode": {
    "name": "ipython",
    "version": 2
   },
   "file_extension": ".py",
   "mimetype": "text/x-python",
   "name": "python",
   "nbconvert_exporter": "python",
   "pygments_lexer": "ipython2",
   "version": "2.7.13"
  }
 },
 "nbformat": 4,
 "nbformat_minor": 2
}
